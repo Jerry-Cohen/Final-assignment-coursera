{
 "cells": [
  {
   "cell_type": "markdown",
   "id": "fd96b2b9-dfa8-4489-b295-b9103031300c",
   "metadata": {},
   "source": [
    "<h1>Data Science Tools and Ecosystem<h1>"
   ]
  },
  {
   "cell_type": "markdown",
   "id": "d223af7d-9154-4258-b7ce-4d9220dbeb6b",
   "metadata": {},
   "source": [
    "<h2>In this notebook, Data Science Tools and Ecosystem are summarized.<h2>"
   ]
  },
  {
   "cell_type": "markdown",
   "id": "a096d151-c293-4220-a3bf-6c22bd4c9c2c",
   "metadata": {},
   "source": [
    "**Objectives**:\r\n",
    "\r\n",
    "- List popular languages for Data Science.\r\n",
    "- Additional objective or key takeaway.\r\n",
    "- Another objective or key takeaway."
   ]
  },
  {
   "cell_type": "markdown",
   "id": "1cece0a9-c8f7-4e15-88e5-eee10f09a252",
   "metadata": {},
   "source": [
    "<h4>Some of the popular languages that Data Scientists use are:<h4>\n",
    "<ol>\n",
    "<li>Python</li>\n",
    "<li>R</li>\n",
    "<li>Stata</li>\n",
    "</ol>"
   ]
  },
  {
   "cell_type": "markdown",
   "id": "2fd505f6-fb5f-4806-a3df-f03287fd4f4d",
   "metadata": {},
   "source": [
    "<h5>Some of the commonly used libraries used by Data Scientists include: <h5>\n",
    "<ol>\n",
    "<li>Matplotlib</li>\n",
    "<li>Pandas</li>\n",
    "<li>Numpy</li>\n",
    "</ol>"
   ]
  },
  {
   "cell_type": "markdown",
   "id": "d759dbaf-e763-4b18-9676-c54fc4d906ff",
   "metadata": {},
   "source": [
    "| Data Science Tools |\r\n",
    "|--------------------|\r\n",
    "| Jupyter            |\r\n",
    "| RStudio            |\r\n",
    "| Python             |  |\r\n",
    "  |\r\n",
    "  |\r\n",
    "/tr>>\n"
   ]
  },
  {
   "cell_type": "markdown",
   "id": "71d51997-9a1b-4385-9ff9-784ca6288273",
   "metadata": {},
   "source": [
    "<h3>Below are a few examples of evaluating arithmetic expressions in Python<h3>"
   ]
  },
  {
   "cell_type": "code",
   "execution_count": 2,
   "id": "35f305b9-d9bf-4eb2-8487-c86304ef2603",
   "metadata": {},
   "outputs": [
    {
     "data": {
      "text/plain": [
       "17"
      ]
     },
     "execution_count": 2,
     "metadata": {},
     "output_type": "execute_result"
    }
   ],
   "source": [
    "##This a simple arithmetic expression to mutiply then add integers\n",
    "(3*4)+5\n"
   ]
  },
  {
   "cell_type": "code",
   "execution_count": null,
   "id": "39902a6e-a0e9-4149-abf4-3be5d4ce099b",
   "metadata": {},
   "outputs": [],
   "source": [
    "## This will convert 200 minutes to hours by diving by 60\n",
    "minutes = 200\n",
    "hours = minutes / 60\n"
   ]
  },
  {
   "cell_type": "markdown",
   "id": "c8e8bd91-6793-4da1-9f88-180db8cb00e8",
   "metadata": {},
   "source": [
    "<h2>Author<h2>\n",
    "Jerry"
   ]
  }
 ],
 "metadata": {
  "kernelspec": {
   "display_name": "Python 3 (ipykernel)",
   "language": "python",
   "name": "python3"
  },
  "language_info": {
   "codemirror_mode": {
    "name": "ipython",
    "version": 3
   },
   "file_extension": ".py",
   "mimetype": "text/x-python",
   "name": "python",
   "nbconvert_exporter": "python",
   "pygments_lexer": "ipython3",
   "version": "3.11.7"
  }
 },
 "nbformat": 4,
 "nbformat_minor": 5
}
